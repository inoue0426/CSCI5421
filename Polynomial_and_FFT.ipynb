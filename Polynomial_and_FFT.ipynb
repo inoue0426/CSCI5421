{
  "nbformat": 4,
  "nbformat_minor": 0,
  "metadata": {
    "colab": {
      "name": "Polynomial and FFT.ipynb",
      "provenance": [],
      "authorship_tag": "ABX9TyP81gV4a5N3iSCAKvfTilaz",
      "include_colab_link": true
    },
    "kernelspec": {
      "name": "python3",
      "display_name": "Python 3"
    },
    "language_info": {
      "name": "python"
    }
  },
  "cells": [
    {
      "cell_type": "markdown",
      "metadata": {
        "id": "view-in-github",
        "colab_type": "text"
      },
      "source": [
        "<a href=\"https://colab.research.google.com/github/inoue0426/CSCI5421/blob/main/Polynomial_and_FFT.ipynb\" target=\"_parent\"><img src=\"https://colab.research.google.com/assets/colab-badge.svg\" alt=\"Open In Colab\"/></a>"
      ]
    },
    {
      "cell_type": "code",
      "execution_count": 1,
      "metadata": {
        "id": "jxD06JhVo5w7"
      },
      "outputs": [],
      "source": [
        "import sympy\n",
        "import numpy as np"
      ]
    },
    {
      "cell_type": "code",
      "source": [
        "x = sympy.Symbol('x')\n",
        "A = [5, 2, 3, 8, 1]\n",
        "B = [4, 7, 6, 2, 0]\n",
        "x = np.array([1, x, x**2, x**3, x**4])"
      ],
      "metadata": {
        "id": "pRwQBUg-pKkH"
      },
      "execution_count": 2,
      "outputs": []
    },
    {
      "cell_type": "code",
      "source": [
        "A"
      ],
      "metadata": {
        "id": "oFofA9tS_L09",
        "outputId": "06b8817f-47e3-4f64-8398-c1b0f3f0bc21",
        "colab": {
          "base_uri": "https://localhost:8080/"
        }
      },
      "execution_count": 3,
      "outputs": [
        {
          "output_type": "execute_result",
          "data": {
            "text/plain": [
              "[5, 2, 3, 8, 1]"
            ]
          },
          "metadata": {},
          "execution_count": 3
        }
      ]
    },
    {
      "cell_type": "code",
      "source": [
        "B"
      ],
      "metadata": {
        "id": "0SvZt4Ek_MUF",
        "outputId": "b2cb70c4-a924-48ba-a803-cc09937e814e",
        "colab": {
          "base_uri": "https://localhost:8080/"
        }
      },
      "execution_count": 4,
      "outputs": [
        {
          "output_type": "execute_result",
          "data": {
            "text/plain": [
              "[4, 7, 6, 2, 0]"
            ]
          },
          "metadata": {},
          "execution_count": 4
        }
      ]
    },
    {
      "cell_type": "code",
      "source": [
        "sympy.expand((A @ x) * (B @ x))"
      ],
      "metadata": {
        "colab": {
          "base_uri": "https://localhost:8080/",
          "height": 38
        },
        "id": "BFxxck7FpiqQ",
        "outputId": "27528131-8283-47e6-8746-cf9d6d64607b"
      },
      "execution_count": 5,
      "outputs": [
        {
          "output_type": "execute_result",
          "data": {
            "text/latex": "$\\displaystyle 2 x^{7} + 22 x^{6} + 61 x^{5} + 82 x^{4} + 75 x^{3} + 56 x^{2} + 43 x + 20$",
            "text/plain": [
              "2*x**7 + 22*x**6 + 61*x**5 + 82*x**4 + 75*x**3 + 56*x**2 + 43*x + 20"
            ]
          },
          "metadata": {},
          "execution_count": 5
        }
      ]
    },
    {
      "cell_type": "code",
      "source": [
        "fft_len = 10"
      ],
      "metadata": {
        "id": "Kb4KPYTjpmsB"
      },
      "execution_count": 6,
      "outputs": []
    },
    {
      "cell_type": "code",
      "source": [
        "Ff = np.fft.rfft(A, fft_len)\n",
        "print(Ff)\n",
        "Fg = np.fft.rfft(B, fft_len)\n",
        "print(Fg)"
      ],
      "metadata": {
        "colab": {
          "base_uri": "https://localhost:8080/"
        },
        "id": "wLUi8LwJqXXW",
        "outputId": "68629fe3-3d48-4b9f-9d2f-026cce318917"
      },
      "execution_count": 7,
      "outputs": [
        {
          "output_type": "stream",
          "name": "stdout",
          "text": [
            "[19.         +0.j          4.26393202-12.22497744j\n",
            " -2.97213595 +1.98786975j  8.73606798 +3.61246823j\n",
            "  5.97213595 -5.34306783j -1.         +0.j        ]\n",
            "[19.         +0.j         10.89918694-11.7229489j\n",
            " -0.30901699 -9.00853662j -1.39918694 -1.9551136j\n",
            "  0.80901699 -0.3102707j   1.         +0.j        ]\n"
          ]
        }
      ]
    },
    {
      "cell_type": "code",
      "source": [
        "Ffg = Ff * Fg\n",
        "print(Ffg)"
      ],
      "metadata": {
        "colab": {
          "base_uri": "https://localhost:8080/"
        },
        "id": "qegiLabrrMKS",
        "outputId": "d3e9356e-1dda-43e8-8414-485d00e1fc27"
      },
      "execution_count": 8,
      "outputs": [
        {
          "output_type": "stream",
          "name": "stdout",
          "text": [
            "[361.          +0.j         -96.83939354-183.22817159j\n",
            "  18.82623792 +26.16031007j  -5.16060646 -22.13452363j\n",
            "   3.17376208  -6.17561149j  -1.          +0.j        ]\n"
          ]
        }
      ]
    },
    {
      "cell_type": "code",
      "source": [
        "fg = np.fft.irfft(Ffg, fft_len)\n",
        "fg = np.rint(fg)\n",
        "print(fg)"
      ],
      "metadata": {
        "colab": {
          "base_uri": "https://localhost:8080/"
        },
        "id": "qhVQb_bTrTv1",
        "outputId": "1110c71d-238e-4834-fd90-67615940b087"
      },
      "execution_count": 9,
      "outputs": [
        {
          "output_type": "stream",
          "name": "stdout",
          "text": [
            "[20. 43. 56. 75. 82. 61. 22.  2.  0.  0.]\n"
          ]
        }
      ]
    },
    {
      "cell_type": "code",
      "source": [
        "np.convolve(A, B)"
      ],
      "metadata": {
        "id": "BZregRCkKHrw",
        "outputId": "756c4559-bfb9-4754-e5bc-c03b676ecf5e",
        "colab": {
          "base_uri": "https://localhost:8080/"
        }
      },
      "execution_count": 10,
      "outputs": [
        {
          "output_type": "execute_result",
          "data": {
            "text/plain": [
              "array([20, 43, 56, 75, 82, 61, 22,  2,  0])"
            ]
          },
          "metadata": {},
          "execution_count": 10
        }
      ]
    },
    {
      "cell_type": "code",
      "source": [
        ""
      ],
      "metadata": {
        "id": "sJE_8wCnKKO9"
      },
      "execution_count": 10,
      "outputs": []
    }
  ]
}